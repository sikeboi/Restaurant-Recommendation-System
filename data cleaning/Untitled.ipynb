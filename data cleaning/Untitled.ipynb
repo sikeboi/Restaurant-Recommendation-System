{
 "cells": [
  {
   "cell_type": "code",
   "execution_count": 1,
   "id": "4243261c",
   "metadata": {},
   "outputs": [
    {
     "data": {
      "text/html": [
       "<div>\n",
       "<style scoped>\n",
       "    .dataframe tbody tr th:only-of-type {\n",
       "        vertical-align: middle;\n",
       "    }\n",
       "\n",
       "    .dataframe tbody tr th {\n",
       "        vertical-align: top;\n",
       "    }\n",
       "\n",
       "    .dataframe thead th {\n",
       "        text-align: right;\n",
       "    }\n",
       "</style>\n",
       "<table border=\"1\" class=\"dataframe\">\n",
       "  <thead>\n",
       "    <tr style=\"text-align: right;\">\n",
       "      <th></th>\n",
       "      <th>review_id</th>\n",
       "      <th>user_id</th>\n",
       "      <th>business_id</th>\n",
       "      <th>stars</th>\n",
       "      <th>useful</th>\n",
       "      <th>funny</th>\n",
       "      <th>cool</th>\n",
       "      <th>text</th>\n",
       "      <th>date</th>\n",
       "      <th>year</th>\n",
       "    </tr>\n",
       "  </thead>\n",
       "  <tbody>\n",
       "    <tr>\n",
       "      <th>0</th>\n",
       "      <td>Ad91EzbAGRCR1SwkPfZJKg</td>\n",
       "      <td>LWTvg7RlyNLXIf482tXBPw</td>\n",
       "      <td>WCVFqK84i2H5EClSoow7ZA</td>\n",
       "      <td>5.0</td>\n",
       "      <td>0</td>\n",
       "      <td>0</td>\n",
       "      <td>0</td>\n",
       "      <td>Traveling through in our RV, stopped over in G...</td>\n",
       "      <td>2016-07-21 17:41:18</td>\n",
       "      <td>2016</td>\n",
       "    </tr>\n",
       "    <tr>\n",
       "      <th>1</th>\n",
       "      <td>uGJubhANtj6sfP_xz8LeLQ</td>\n",
       "      <td>1EecTw-Iojid62ySMMl5gA</td>\n",
       "      <td>xR3inMR2KceU3b9dhkz_tw</td>\n",
       "      <td>4.0</td>\n",
       "      <td>0</td>\n",
       "      <td>0</td>\n",
       "      <td>0</td>\n",
       "      <td>The food and service was amazing! I only wish ...</td>\n",
       "      <td>2016-01-30 04:15:18</td>\n",
       "      <td>2016</td>\n",
       "    </tr>\n",
       "    <tr>\n",
       "      <th>2</th>\n",
       "      <td>xqp0pnO0PfBkaFRNaVImYw</td>\n",
       "      <td>c35f8FumQy5045zFbIir6w</td>\n",
       "      <td>_uyLoz0BbrQIVmUEm_td1Q</td>\n",
       "      <td>3.0</td>\n",
       "      <td>0</td>\n",
       "      <td>0</td>\n",
       "      <td>0</td>\n",
       "      <td>My husband had the 6 oz pepperloin meal and wa...</td>\n",
       "      <td>2018-06-09 01:10:44</td>\n",
       "      <td>2018</td>\n",
       "    </tr>\n",
       "  </tbody>\n",
       "</table>\n",
       "</div>"
      ],
      "text/plain": [
       "                review_id                 user_id             business_id  \\\n",
       "0  Ad91EzbAGRCR1SwkPfZJKg  LWTvg7RlyNLXIf482tXBPw  WCVFqK84i2H5EClSoow7ZA   \n",
       "1  uGJubhANtj6sfP_xz8LeLQ  1EecTw-Iojid62ySMMl5gA  xR3inMR2KceU3b9dhkz_tw   \n",
       "2  xqp0pnO0PfBkaFRNaVImYw  c35f8FumQy5045zFbIir6w  _uyLoz0BbrQIVmUEm_td1Q   \n",
       "\n",
       "   stars  useful  funny  cool  \\\n",
       "0    5.0       0      0     0   \n",
       "1    4.0       0      0     0   \n",
       "2    3.0       0      0     0   \n",
       "\n",
       "                                                text                 date  \\\n",
       "0  Traveling through in our RV, stopped over in G...  2016-07-21 17:41:18   \n",
       "1  The food and service was amazing! I only wish ...  2016-01-30 04:15:18   \n",
       "2  My husband had the 6 oz pepperloin meal and wa...  2018-06-09 01:10:44   \n",
       "\n",
       "   year  \n",
       "0  2016  \n",
       "1  2016  \n",
       "2  2018  "
      ]
     },
     "execution_count": 1,
     "metadata": {},
     "output_type": "execute_result"
    }
   ],
   "source": [
    "import pandas as pd\n",
    "\n",
    "data_review = pd.read_csv(r'D:\\yelp_dataset\\yelp_dataset~\\IL_review.csv',index_col=0)\n",
    "data_review.head(3)"
   ]
  },
  {
   "cell_type": "code",
   "execution_count": 2,
   "id": "6c1db0c3",
   "metadata": {},
   "outputs": [
    {
     "data": {
      "text/plain": [
       "count    521.000000\n",
       "mean       1.134357\n",
       "std        0.465327\n",
       "min        1.000000\n",
       "25%        1.000000\n",
       "50%        1.000000\n",
       "75%        1.000000\n",
       "max        5.000000\n",
       "Name: business_id, dtype: float64"
      ]
     },
     "execution_count": 2,
     "metadata": {},
     "output_type": "execute_result"
    }
   ],
   "source": [
    "#USERS' FREQUENCIES\n",
    "data_review.groupby('user_id').count()['business_id'].describe()"
   ]
  },
  {
   "cell_type": "code",
   "execution_count": 3,
   "id": "1b161ad5",
   "metadata": {},
   "outputs": [],
   "source": [
    "# Load data\n",
    "data_business = pd.read_csv(r'D:\\yelp_dataset\\yelp_dataset~\\business_cj.csv',index_col=0)\n",
    "data_users = pd.read_csv(r'D:\\yelp_dataset\\yelp_dataset~\\IL_users.csv',index_col=0)"
   ]
  },
  {
   "cell_type": "code",
   "execution_count": 4,
   "id": "ee7ae312",
   "metadata": {},
   "outputs": [
    {
     "data": {
      "text/plain": [
       "Index(['review_id', 'user_id', 'business_id', 'stars_x', 'useful', 'funny',\n",
       "       'cool', 'text', 'date', 'year',\n",
       "       ...\n",
       "       'Buffets', 'Flowers & Gifts', 'Discount Store', 'Gas Stations',\n",
       "       'Juice Bars & Smoothies', 'Electronics', 'Breweries', 'Home & Garden',\n",
       "       'Florists', 'Cupcakes'],\n",
       "      dtype='object', length=117)"
      ]
     },
     "execution_count": 4,
     "metadata": {},
     "output_type": "execute_result"
    }
   ],
   "source": [
    "# create user tag by merging\n",
    "user_tag = data_review.merge(data_business, left_on='business_id', right_on='business_id')\n",
    "user_tag.columns"
   ]
  },
  {
   "cell_type": "code",
   "execution_count": 5,
   "id": "10194362",
   "metadata": {},
   "outputs": [
    {
     "data": {
      "text/plain": [
       "(521, 62)"
      ]
     },
     "execution_count": 5,
     "metadata": {},
     "output_type": "execute_result"
    }
   ],
   "source": [
    "# creating a group by\n",
    "user_tag2 = user_tag.groupby('user_id').sum().iloc[:,12:]\n",
    "user_tag2.shape"
   ]
  },
  {
   "cell_type": "code",
   "execution_count": 6,
   "id": "f6fd2510",
   "metadata": {},
   "outputs": [],
   "source": [
    "# creating tags\n",
    "tag = []\n",
    "for i in range(user_tag2.shape[0]):\n",
    "    tmp = user_tag2.iloc[i,:].sort_values(ascending=False)[:2].index.tolist()\n",
    "    tag.extend(tmp)"
   ]
  },
  {
   "cell_type": "code",
   "execution_count": 7,
   "id": "279594e3",
   "metadata": {},
   "outputs": [],
   "source": [
    "#len(set(tag))\n",
    "\n",
    "tag_all = user_tag2.idxmax(axis=1)\n",
    "tag_list = list(set(tag_all))\n",
    "tag_all_df = pd.DataFrame(tag_all).reset_index()"
   ]
  },
  {
   "cell_type": "code",
   "execution_count": null,
   "id": "d75ffe8d",
   "metadata": {},
   "outputs": [],
   "source": []
  }
 ],
 "metadata": {
  "kernelspec": {
   "display_name": "Python 3 (ipykernel)",
   "language": "python",
   "name": "python3"
  },
  "language_info": {
   "codemirror_mode": {
    "name": "ipython",
    "version": 3
   },
   "file_extension": ".py",
   "mimetype": "text/x-python",
   "name": "python",
   "nbconvert_exporter": "python",
   "pygments_lexer": "ipython3",
   "version": "3.9.13"
  }
 },
 "nbformat": 4,
 "nbformat_minor": 5
}
