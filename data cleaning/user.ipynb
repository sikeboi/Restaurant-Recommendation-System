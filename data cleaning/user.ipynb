{
 "cells": [
  {
   "cell_type": "code",
   "execution_count": 1,
   "id": "5345f800",
   "metadata": {},
   "outputs": [],
   "source": [
    "\n",
    "import json\n",
    "import pandas as pd"
   ]
  },
  {
   "cell_type": "code",
   "execution_count": 5,
   "id": "7fead6d0",
   "metadata": {},
   "outputs": [
    {
     "data": {
      "text/plain": [
       "(1987897, 22)"
      ]
     },
     "execution_count": 5,
     "metadata": {},
     "output_type": "execute_result"
    }
   ],
   "source": [
    "path = r'D:\\yelp_dataset\\yelp_dataset~\\yelp_academic_dataset_user.json'\n",
    "user= []w\n",
    "with open(path, encoding = 'utf-8') as fin:\n",
    "    i = 0 \n",
    "    for line in fin:\n",
    "        line_contents = json.loads(line)\n",
    "        user.append(line_contents)\n",
    "        \n",
    "user = pd.DataFrame(user)\n",
    "user.shape"
   ]
  },
  {
   "cell_type": "code",
   "execution_count": 7,
   "id": "e953847f",
   "metadata": {},
   "outputs": [],
   "source": [
    "user.to_csv(r'D:\\yelp_dataset\\yelp_dataset~\\user.csv')"
   ]
  },
  {
   "cell_type": "code",
   "execution_count": null,
   "id": "9a57f769",
   "metadata": {},
   "outputs": [],
   "source": []
  }
 ],
 "metadata": {
  "kernelspec": {
   "display_name": "Python 3 (ipykernel)",
   "language": "python",
   "name": "python3"
  },
  "language_info": {
   "codemirror_mode": {
    "name": "ipython",
    "version": 3
   },
   "file_extension": ".py",
   "mimetype": "text/x-python",
   "name": "python",
   "nbconvert_exporter": "python",
   "pygments_lexer": "ipython3",
   "version": "3.9.13"
  }
 },
 "nbformat": 4,
 "nbformat_minor": 5
}
